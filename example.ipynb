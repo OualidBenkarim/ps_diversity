{
 "cells": [
  {
   "cell_type": "code",
   "execution_count": 2,
   "id": "2ee2bc87",
   "metadata": {},
   "outputs": [],
   "source": [
    "import numpy as np\n",
    "import pandas as pd\n",
    "\n",
    "from evaluation import prepare_data, evaluate_diversity"
   ]
  },
  {
   "cell_type": "markdown",
   "id": "9a67ba62",
   "metadata": {},
   "source": [
    "### Load data"
   ]
  },
  {
   "cell_type": "code",
   "execution_count": 3,
   "id": "f6927bee",
   "metadata": {},
   "outputs": [
    {
     "name": "stdout",
     "output_type": "stream",
     "text": [
      "(297, 4950) (297, 4)\n"
     ]
    },
    {
     "data": {
      "text/html": [
       "<div>\n",
       "<style scoped>\n",
       "    .dataframe tbody tr th:only-of-type {\n",
       "        vertical-align: middle;\n",
       "    }\n",
       "\n",
       "    .dataframe tbody tr th {\n",
       "        vertical-align: top;\n",
       "    }\n",
       "\n",
       "    .dataframe thead th {\n",
       "        text-align: right;\n",
       "    }\n",
       "</style>\n",
       "<table border=\"1\" class=\"dataframe\">\n",
       "  <thead>\n",
       "    <tr style=\"text-align: right;\">\n",
       "      <th></th>\n",
       "      <th>age</th>\n",
       "      <th>sex</th>\n",
       "      <th>site</th>\n",
       "      <th>group</th>\n",
       "    </tr>\n",
       "  </thead>\n",
       "  <tbody>\n",
       "    <tr>\n",
       "      <th>0</th>\n",
       "      <td>16.77</td>\n",
       "      <td>M</td>\n",
       "      <td>PITT</td>\n",
       "      <td>ASD</td>\n",
       "    </tr>\n",
       "    <tr>\n",
       "      <th>1</th>\n",
       "      <td>24.45</td>\n",
       "      <td>M</td>\n",
       "      <td>PITT</td>\n",
       "      <td>ASD</td>\n",
       "    </tr>\n",
       "    <tr>\n",
       "      <th>2</th>\n",
       "      <td>19.09</td>\n",
       "      <td>M</td>\n",
       "      <td>PITT</td>\n",
       "      <td>ASD</td>\n",
       "    </tr>\n",
       "    <tr>\n",
       "      <th>3</th>\n",
       "      <td>13.37</td>\n",
       "      <td>M</td>\n",
       "      <td>PITT</td>\n",
       "      <td>ASD</td>\n",
       "    </tr>\n",
       "    <tr>\n",
       "      <th>4</th>\n",
       "      <td>17.78</td>\n",
       "      <td>M</td>\n",
       "      <td>PITT</td>\n",
       "      <td>ASD</td>\n",
       "    </tr>\n",
       "  </tbody>\n",
       "</table>\n",
       "</div>"
      ],
      "text/plain": [
       "     age sex  site group\n",
       "0  16.77   M  PITT   ASD\n",
       "1  24.45   M  PITT   ASD\n",
       "2  19.09   M  PITT   ASD\n",
       "3  13.37   M  PITT   ASD\n",
       "4  17.78   M  PITT   ASD"
      ]
     },
     "execution_count": 3,
     "metadata": {},
     "output_type": "execute_result"
    }
   ],
   "source": [
    "x = np.load('./data/func.npz')['fc']\n",
    "df = pd.read_csv('./data/covariates.csv', index_col=0)\n",
    "\n",
    "print(x.shape, df.shape)\n",
    "df.head()"
   ]
  },
  {
   "cell_type": "markdown",
   "id": "e15395c0",
   "metadata": {},
   "source": [
    "### Target variable"
   ]
  },
  {
   "cell_type": "code",
   "execution_count": 4,
   "id": "a29553d9",
   "metadata": {},
   "outputs": [
    {
     "data": {
      "text/plain": [
       "(297,)"
      ]
     },
     "execution_count": 4,
     "metadata": {},
     "output_type": "execute_result"
    }
   ],
   "source": [
    "y = df.group.replace({'ASD': 1, 'TD': 0}).to_numpy().astype(int)\n",
    "\n",
    "# and remove it from covariates\n",
    "df.drop('group', axis=1, inplace=True)\n",
    "\n",
    "y.shape"
   ]
  },
  {
   "cell_type": "markdown",
   "id": "b515f634",
   "metadata": {},
   "source": [
    "### Matching and stratification"
   ]
  },
  {
   "cell_type": "code",
   "execution_count": 5,
   "id": "433a9b09",
   "metadata": {},
   "outputs": [
    {
     "name": "stdout",
     "output_type": "stream",
     "text": [
      "(290, 4) (290, 4950) (290,)\n"
     ]
    },
    {
     "data": {
      "text/html": [
       "<div>\n",
       "<style scoped>\n",
       "    .dataframe tbody tr th:only-of-type {\n",
       "        vertical-align: middle;\n",
       "    }\n",
       "\n",
       "    .dataframe tbody tr th {\n",
       "        vertical-align: top;\n",
       "    }\n",
       "\n",
       "    .dataframe thead th {\n",
       "        text-align: right;\n",
       "    }\n",
       "</style>\n",
       "<table border=\"1\" class=\"dataframe\">\n",
       "  <thead>\n",
       "    <tr style=\"text-align: right;\">\n",
       "      <th></th>\n",
       "      <th>group</th>\n",
       "      <th>ps</th>\n",
       "      <th>pair</th>\n",
       "      <th>strata</th>\n",
       "    </tr>\n",
       "    <tr>\n",
       "      <th>sample_idx</th>\n",
       "      <th></th>\n",
       "      <th></th>\n",
       "      <th></th>\n",
       "      <th></th>\n",
       "    </tr>\n",
       "  </thead>\n",
       "  <tbody>\n",
       "    <tr>\n",
       "      <th>0</th>\n",
       "      <td>1</td>\n",
       "      <td>0.575733</td>\n",
       "      <td>0</td>\n",
       "      <td>4</td>\n",
       "    </tr>\n",
       "    <tr>\n",
       "      <th>1</th>\n",
       "      <td>1</td>\n",
       "      <td>0.602902</td>\n",
       "      <td>1</td>\n",
       "      <td>7</td>\n",
       "    </tr>\n",
       "    <tr>\n",
       "      <th>2</th>\n",
       "      <td>1</td>\n",
       "      <td>0.583830</td>\n",
       "      <td>2</td>\n",
       "      <td>5</td>\n",
       "    </tr>\n",
       "    <tr>\n",
       "      <th>3</th>\n",
       "      <td>1</td>\n",
       "      <td>0.564287</td>\n",
       "      <td>3</td>\n",
       "      <td>3</td>\n",
       "    </tr>\n",
       "    <tr>\n",
       "      <th>4</th>\n",
       "      <td>1</td>\n",
       "      <td>0.579236</td>\n",
       "      <td>4</td>\n",
       "      <td>5</td>\n",
       "    </tr>\n",
       "  </tbody>\n",
       "</table>\n",
       "</div>"
      ],
      "text/plain": [
       "            group        ps  pair  strata\n",
       "sample_idx                               \n",
       "0               1  0.575733     0       4\n",
       "1               1  0.602902     1       7\n",
       "2               1  0.583830     2       5\n",
       "3               1  0.564287     3       3\n",
       "4               1  0.579236     4       5"
      ]
     },
     "execution_count": 5,
     "metadata": {},
     "output_type": "execute_result"
    }
   ],
   "source": [
    "df_match, x, y = prepare_data(x, y, df, site_col='site', cat=['sex'], \n",
    "                              n_strata=10, caliper=0.2, dec=None) # No deconfounding used\n",
    "\n",
    "print(df_match.shape, x.shape, y.shape)\n",
    "df_match.head()"
   ]
  },
  {
   "cell_type": "code",
   "execution_count": null,
   "id": "61b8ddb4",
   "metadata": {},
   "outputs": [],
   "source": []
  },
  {
   "cell_type": "markdown",
   "id": "f8c90425",
   "metadata": {},
   "source": [
    "### Predictive model"
   ]
  },
  {
   "cell_type": "code",
   "execution_count": 6,
   "id": "f49f8759",
   "metadata": {},
   "outputs": [],
   "source": [
    "from sklearn.pipeline import Pipeline\n",
    "from sklearn.preprocessing import StandardScaler\n",
    "from sklearn.linear_model import LogisticRegression\n",
    "\n",
    "# Classifier - No param tunning here\n",
    "clf = Pipeline([\n",
    "            ('ss', StandardScaler()),\n",
    "            ('clf', LogisticRegression(C=1, penalty='l2', random_state=0))]\n",
    "        )"
   ]
  },
  {
   "cell_type": "markdown",
   "id": "133763a9",
   "metadata": {},
   "source": [
    "### Evaluation"
   ]
  },
  {
   "cell_type": "code",
   "execution_count": 7,
   "id": "c2737730",
   "metadata": {},
   "outputs": [
    {
     "name": "stdout",
     "output_type": "stream",
     "text": [
      "Within-distribution elapsed time: 11.94s\n",
      "Out-of-distribution elapsed time: 12.48s\n"
     ]
    }
   ],
   "source": [
    "# Params chosen for fast execution\n",
    "df_strata, coef, score = evaluate_diversity(clf, x, y, df_match, n_train_strata=7, n_splits=2, n_jobs=6, verbose=True)"
   ]
  },
  {
   "cell_type": "markdown",
   "id": "24338b9e",
   "metadata": {},
   "source": [
    "### Gather results"
   ]
  },
  {
   "cell_type": "code",
   "execution_count": 8,
   "id": "df42487e",
   "metadata": {},
   "outputs": [
    {
     "data": {
      "text/html": [
       "<div>\n",
       "<style scoped>\n",
       "    .dataframe tbody tr th:only-of-type {\n",
       "        vertical-align: middle;\n",
       "    }\n",
       "\n",
       "    .dataframe tbody tr th {\n",
       "        vertical-align: top;\n",
       "    }\n",
       "\n",
       "    .dataframe thead th {\n",
       "        text-align: right;\n",
       "    }\n",
       "</style>\n",
       "<table border=\"1\" class=\"dataframe\">\n",
       "  <thead>\n",
       "    <tr style=\"text-align: right;\">\n",
       "      <th></th>\n",
       "      <th>perf</th>\n",
       "      <th>Div</th>\n",
       "      <th>ROC-AUC</th>\n",
       "    </tr>\n",
       "  </thead>\n",
       "  <tbody>\n",
       "    <tr>\n",
       "      <th>0</th>\n",
       "      <td>WD</td>\n",
       "      <td>0.017987</td>\n",
       "      <td>0.752941</td>\n",
       "    </tr>\n",
       "    <tr>\n",
       "      <th>1</th>\n",
       "      <td>WD</td>\n",
       "      <td>0.021315</td>\n",
       "      <td>0.751538</td>\n",
       "    </tr>\n",
       "    <tr>\n",
       "      <th>2</th>\n",
       "      <td>WD</td>\n",
       "      <td>0.024976</td>\n",
       "      <td>0.718603</td>\n",
       "    </tr>\n",
       "    <tr>\n",
       "      <th>3</th>\n",
       "      <td>WD</td>\n",
       "      <td>0.029608</td>\n",
       "      <td>0.629437</td>\n",
       "    </tr>\n",
       "    <tr>\n",
       "      <th>4</th>\n",
       "      <td>WD</td>\n",
       "      <td>0.022882</td>\n",
       "      <td>0.790142</td>\n",
       "    </tr>\n",
       "  </tbody>\n",
       "</table>\n",
       "</div>"
      ],
      "text/plain": [
       "  perf       Div   ROC-AUC\n",
       "0   WD  0.017987  0.752941\n",
       "1   WD  0.021315  0.751538\n",
       "2   WD  0.024976  0.718603\n",
       "3   WD  0.029608  0.629437\n",
       "4   WD  0.022882  0.790142"
      ]
     },
     "execution_count": 8,
     "metadata": {},
     "output_type": "execute_result"
    }
   ],
   "source": [
    "# Within-distribution predition performance (ROC-AUC)\n",
    "div_wd = df_strata.train.intra_ps\n",
    "auc_wd = score['default']['cv']['auc']\n",
    "wd = pd.DataFrame(np.c_[div_wd, auc_wd], columns=['Div', 'ROC-AUC'])\n",
    "\n",
    "# Out-of-distribution predition performance (ROC-AUC)\n",
    "div_ood = np.concatenate(df_strata.test.inter_ps_strata)\n",
    "auc_ood = score['default']['test'].loc['strata', 'auc']\n",
    "ood = pd.DataFrame(np.c_[div_ood, auc_ood], columns=['Div', 'ROC-AUC'])\n",
    "\n",
    "\n",
    "scores = pd.concat([wd, ood], keys=['WD', 'OOD'], names=['perf'])\n",
    "scores.reset_index(0, inplace=True)\n",
    "scores.head()"
   ]
  },
  {
   "cell_type": "markdown",
   "id": "923edd0a",
   "metadata": {},
   "source": [
    "### Plot results"
   ]
  },
  {
   "cell_type": "code",
   "execution_count": 9,
   "id": "08442c2e",
   "metadata": {},
   "outputs": [
    {
     "data": {
      "text/plain": [
       "<seaborn.axisgrid.FacetGrid at 0x7f624d945a90>"
      ]
     },
     "execution_count": 9,
     "metadata": {},
     "output_type": "execute_result"
    },
    {
     "data": {
      "image/png": "[encoded data removed]",
      "text/plain": [
       "<Figure size 720x360 with 2 Axes>"
      ]
     },
     "metadata": {
      "needs_background": "light"
     },
     "output_type": "display_data"
    }
   ],
   "source": [
    "import seaborn as sns\n",
    "\n",
    "sns.lmplot(x='Div', y='ROC-AUC', data=scores, col='perf', sharex=False, sharey=False, truncate=False)"
   ]
  },
  {
   "cell_type": "code",
   "execution_count": null,
   "id": "3faafc25",
   "metadata": {},
   "outputs": [],
   "source": []
  }
 ],
 "metadata": {
  "kernelspec": {
   "display_name": "Python 3",
   "language": "python",
   "name": "python3"
  },
  "language_info": {
   "codemirror_mode": {
    "name": "ipython",
    "version": 3
   },
   "file_extension": ".py",
   "mimetype": "text/x-python",
   "name": "python",
   "nbconvert_exporter": "python",
   "pygments_lexer": "ipython3",
   "version": "3.7.10"
  }
 },
 "nbformat": 4,
 "nbformat_minor": 5
}